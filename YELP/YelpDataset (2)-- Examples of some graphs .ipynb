{
 "cells": [
  {
   "cell_type": "code",
   "execution_count": 4,
   "metadata": {},
   "outputs": [],
   "source": [
    "import math\n",
    "import numpy as np\n",
    "from   numpy import linalg as LA\n",
    "import scipy\n",
    "import scipy.io\n",
    "from scipy.sparse import csr_matrix\n",
    "import matplotlib.pyplot as plt\n",
    "from mpl_toolkits.mplot3d import Axes3D\n",
    "    \n",
    "from sklearn import datasets     # Machine Learning in Python\n",
    "from sklearn.preprocessing import StandardScaler\n",
    "from sklearn.cluster import KMeans, SpectralClustering\n",
    "from sklearn.neighbors import kneighbors_graph\n",
    "from sklearn.metrics.pairwise import pairwise_kernels\n",
    "from sklearn.manifold import MDS \n",
    "\n",
    "import torch\n",
    "import torch.nn as nn            # a neural networks library \n",
    "import torch.nn.functional as F  \n",
    "import torch.optim as optim      # an optimization package to be used with torch.nn\n",
    "\n",
    "import pandas as pd\n",
    "import json\n",
    "\n",
    "np.set_printoptions(precision=4)"
   ]
  },
  {
   "cell_type": "code",
   "execution_count": 2,
   "metadata": {},
   "outputs": [],
   "source": [
    "%load_ext autoreload\n",
    "%autoreload 2"
   ]
  },
  {
   "cell_type": "code",
   "execution_count": 5,
   "metadata": {},
   "outputs": [],
   "source": [
    "def read_json(filepath):\n",
    "    with open(filepath) as json_file:      \n",
    "        data = json_file.readlines()\n",
    "        data = list(map(json.loads, data)) \n",
    "    return data\n",
    "\n",
    "def build_graph(X, knn=True):\n",
    "    if knn:\n",
    "        A = kneighbors_graph(X, n_neighbors=5, include_self=False)\n",
    "        A = np.array(A.todense())\n",
    "        A = np.clip(A + A.T, 0, 1)\n",
    "    else:\n",
    "        A = pairwise_kernels(X, metric='rbf', gamma=1)\n",
    "    return A"
   ]
  },
  {
   "cell_type": "markdown",
   "metadata": {},
   "source": [
    "## Create graphs from yelp dataset "
   ]
  },
  {
   "cell_type": "code",
   "execution_count": 6,
   "metadata": {
    "scrolled": false
   },
   "outputs": [
    {
     "ename": "UnicodeDecodeError",
     "evalue": "'charmap' codec can't decode byte 0x8f in position 5601: character maps to <undefined>",
     "output_type": "error",
     "traceback": [
      "\u001b[1;31m---------------------------------------------------------------------------\u001b[0m",
      "\u001b[1;31mUnicodeDecodeError\u001b[0m                        Traceback (most recent call last)",
      "\u001b[1;32m<ipython-input-6-0b77544946d6>\u001b[0m in \u001b[0;36m<module>\u001b[1;34m()\u001b[0m\n\u001b[0;32m      9\u001b[0m \u001b[1;33m\u001b[0m\u001b[0m\n\u001b[0;32m     10\u001b[0m \u001b[1;33m\u001b[0m\u001b[0m\n\u001b[1;32m---> 11\u001b[1;33m \u001b[0mdata_review\u001b[0m   \u001b[1;33m=\u001b[0m \u001b[0mread_json\u001b[0m\u001b[1;33m(\u001b[0m\u001b[1;34m'dataset/review.json'\u001b[0m\u001b[1;33m)\u001b[0m\u001b[1;33m\u001b[0m\u001b[0m\n\u001b[0m\u001b[0;32m     12\u001b[0m \u001b[0mreview\u001b[0m        \u001b[1;33m=\u001b[0m \u001b[0mpd\u001b[0m\u001b[1;33m.\u001b[0m\u001b[0mDataFrame\u001b[0m\u001b[1;33m(\u001b[0m\u001b[0mdata_review\u001b[0m\u001b[1;33m)\u001b[0m\u001b[1;33m\u001b[0m\u001b[0m\n\u001b[0;32m     13\u001b[0m \u001b[1;33m\u001b[0m\u001b[0m\n",
      "\u001b[1;32m<ipython-input-5-f96b8c347ffd>\u001b[0m in \u001b[0;36mread_json\u001b[1;34m(filepath)\u001b[0m\n\u001b[0;32m      1\u001b[0m \u001b[1;32mdef\u001b[0m \u001b[0mread_json\u001b[0m\u001b[1;33m(\u001b[0m\u001b[0mfilepath\u001b[0m\u001b[1;33m)\u001b[0m\u001b[1;33m:\u001b[0m\u001b[1;33m\u001b[0m\u001b[0m\n\u001b[0;32m      2\u001b[0m     \u001b[1;32mwith\u001b[0m \u001b[0mopen\u001b[0m\u001b[1;33m(\u001b[0m\u001b[0mfilepath\u001b[0m\u001b[1;33m)\u001b[0m \u001b[1;32mas\u001b[0m \u001b[0mjson_file\u001b[0m\u001b[1;33m:\u001b[0m\u001b[1;33m\u001b[0m\u001b[0m\n\u001b[1;32m----> 3\u001b[1;33m         \u001b[0mdata\u001b[0m \u001b[1;33m=\u001b[0m \u001b[0mjson_file\u001b[0m\u001b[1;33m.\u001b[0m\u001b[0mreadlines\u001b[0m\u001b[1;33m(\u001b[0m\u001b[1;33m)\u001b[0m\u001b[1;33m\u001b[0m\u001b[0m\n\u001b[0m\u001b[0;32m      4\u001b[0m         \u001b[0mdata\u001b[0m \u001b[1;33m=\u001b[0m \u001b[0mlist\u001b[0m\u001b[1;33m(\u001b[0m\u001b[0mmap\u001b[0m\u001b[1;33m(\u001b[0m\u001b[0mjson\u001b[0m\u001b[1;33m.\u001b[0m\u001b[0mloads\u001b[0m\u001b[1;33m,\u001b[0m \u001b[0mdata\u001b[0m\u001b[1;33m)\u001b[0m\u001b[1;33m)\u001b[0m\u001b[1;33m\u001b[0m\u001b[0m\n\u001b[0;32m      5\u001b[0m     \u001b[1;32mreturn\u001b[0m \u001b[0mdata\u001b[0m\u001b[1;33m\u001b[0m\u001b[0m\n",
      "\u001b[1;32m~\\Anaconda3\\lib\\encodings\\cp1252.py\u001b[0m in \u001b[0;36mdecode\u001b[1;34m(self, input, final)\u001b[0m\n\u001b[0;32m     21\u001b[0m \u001b[1;32mclass\u001b[0m \u001b[0mIncrementalDecoder\u001b[0m\u001b[1;33m(\u001b[0m\u001b[0mcodecs\u001b[0m\u001b[1;33m.\u001b[0m\u001b[0mIncrementalDecoder\u001b[0m\u001b[1;33m)\u001b[0m\u001b[1;33m:\u001b[0m\u001b[1;33m\u001b[0m\u001b[0m\n\u001b[0;32m     22\u001b[0m     \u001b[1;32mdef\u001b[0m \u001b[0mdecode\u001b[0m\u001b[1;33m(\u001b[0m\u001b[0mself\u001b[0m\u001b[1;33m,\u001b[0m \u001b[0minput\u001b[0m\u001b[1;33m,\u001b[0m \u001b[0mfinal\u001b[0m\u001b[1;33m=\u001b[0m\u001b[1;32mFalse\u001b[0m\u001b[1;33m)\u001b[0m\u001b[1;33m:\u001b[0m\u001b[1;33m\u001b[0m\u001b[0m\n\u001b[1;32m---> 23\u001b[1;33m         \u001b[1;32mreturn\u001b[0m \u001b[0mcodecs\u001b[0m\u001b[1;33m.\u001b[0m\u001b[0mcharmap_decode\u001b[0m\u001b[1;33m(\u001b[0m\u001b[0minput\u001b[0m\u001b[1;33m,\u001b[0m\u001b[0mself\u001b[0m\u001b[1;33m.\u001b[0m\u001b[0merrors\u001b[0m\u001b[1;33m,\u001b[0m\u001b[0mdecoding_table\u001b[0m\u001b[1;33m)\u001b[0m\u001b[1;33m[\u001b[0m\u001b[1;36m0\u001b[0m\u001b[1;33m]\u001b[0m\u001b[1;33m\u001b[0m\u001b[0m\n\u001b[0m\u001b[0;32m     24\u001b[0m \u001b[1;33m\u001b[0m\u001b[0m\n\u001b[0;32m     25\u001b[0m \u001b[1;32mclass\u001b[0m \u001b[0mStreamWriter\u001b[0m\u001b[1;33m(\u001b[0m\u001b[0mCodec\u001b[0m\u001b[1;33m,\u001b[0m\u001b[0mcodecs\u001b[0m\u001b[1;33m.\u001b[0m\u001b[0mStreamWriter\u001b[0m\u001b[1;33m)\u001b[0m\u001b[1;33m:\u001b[0m\u001b[1;33m\u001b[0m\u001b[0m\n",
      "\u001b[1;31mUnicodeDecodeError\u001b[0m: 'charmap' codec can't decode byte 0x8f in position 5601: character maps to <undefined>"
     ]
    }
   ],
   "source": [
    "# Read data \n",
    "\n",
    "data_business = read_json('dataset/business.json')\n",
    "business      = pd.DataFrame(data_business)\n",
    "\n",
    "df1           = business[['business_id', 'categories', 'latitude', 'longitude', 'review_count', 'stars']]\n",
    "dfna1         = df1.dropna()\n",
    "dfna1.isnull().any()\n",
    "\n",
    "\n",
    "data_review   = read_json('dataset/review.json')\n",
    "review        = pd.DataFrame(data_review)\n",
    "\n",
    "df2           = review[['business_id', 'user_id']]\n",
    "dfna2         = df2.dropna() #[pd.notnull(df)]\n",
    "dfna2.isnull().any()"
   ]
  },
  {
   "cell_type": "code",
   "execution_count": 10,
   "metadata": {},
   "outputs": [
    {
     "data": {
      "text/plain": [
       "business_id    False\n",
       "time           False\n",
       "dtype: bool"
      ]
     },
     "execution_count": 10,
     "metadata": {},
     "output_type": "execute_result"
    }
   ],
   "source": [
    "data_checkin  = read_json('dataset/checkin.json')\n",
    "checkin       = pd.DataFrame(data_checkin)\n",
    "\n",
    "df3           = checkin\n",
    "dfna3         = df3.dropna(how = \"any\") #[pd.notnull(df)]\n",
    "dfna3.isnull().any()"
   ]
  },
  {
   "cell_type": "code",
   "execution_count": null,
   "metadata": {
    "collapsed": true
   },
   "outputs": [],
   "source": [
    "# selection of the restaurants only\n",
    "restaurant         = dfna1[dfna1['categories'].astype(str).str.contains(\"Restaurants\")]\n",
    "business_id_full   = restaurant[['business_id']]\n",
    "stars              = restaurant[['stars']]\n",
    "\n",
    "# Evaluation -- Stars\n",
    "Xeval              = stars.values"
   ]
  },
  {
   "cell_type": "code",
   "execution_count": null,
   "metadata": {
    "collapsed": true
   },
   "outputs": [],
   "source": [
    "# Take a subset of the restaurant \n",
    "\n",
    "testN = 1000\n",
    "business_id = business_id_full[0:testN]\n",
    "\n",
    "order = {}\n",
    "for (id, index) in zip(business_id.business_id, range(len(business_id))):\n",
    "    order[id] = index\n",
    "    \n",
    "restaurant_testN = restaurant.iloc[0:testN].copy(deep=True)\n",
    "restaurant_testN = [restaurant_testN[restaurant_testN['business_id'].astype(str).str.contains(m)] for m in business_id.business_id]\n",
    "restaurant_testN = pd.concat(restaurant_testN)\n",
    "\n",
    "stars_textN      = restaurant_testN[['stars']]\n",
    "Xeval_textN      = np.round(stars_textN.values) - 1 "
   ]
  },
  {
   "cell_type": "code",
   "execution_count": null,
   "metadata": {
    "collapsed": true
   },
   "outputs": [],
   "source": [
    "# -- First Graph --\n",
    "\n",
    "# Graph link: geographical positions\n",
    "restaurant_geo_pos   = restaurant_testN[['latitude', 'longitude']]\n",
    "X1                   = restaurant_geo_pos.values # (54618, 2)\n",
    "graph1               = build_graph(X1)\n",
    "\n",
    "# Graph Signal -- Review count\n",
    "restaurant_rev_count = restaurant_testN[['review_count']]\n",
    "sig1                 = restaurant_rev_count.values # (54618, 2)"
   ]
  },
  {
   "cell_type": "code",
   "execution_count": null,
   "metadata": {
    "collapsed": true
   },
   "outputs": [],
   "source": []
  },
  {
   "cell_type": "code",
   "execution_count": null,
   "metadata": {
    "collapsed": true
   },
   "outputs": [],
   "source": []
  },
  {
   "cell_type": "code",
   "execution_count": null,
   "metadata": {
    "collapsed": true
   },
   "outputs": [],
   "source": [
    "# -- Second Graph -- \n",
    "\n",
    "# Graph link: if the same user visited two different restaurants, these resto are linked\n",
    "N                     = len(business_id)\n",
    "X2                    = np.zeros((N,N))\n",
    "\n",
    "dfna2_testN = dfna2.iloc[0:testN].copy(deep=True)\n",
    "dfna2_testN = [dfna2_testN[dfna2_testN['business_id'].astype(str).str.contains(m)] for m in business_id.business_id]\n",
    "dfna2_testN = pd.concat(dfna2_testN)\n",
    "\n",
    "business_groupby_user = dfna2_testN.groupby('user_id')\n",
    "list_groupby_user     = list(business_groupby_user)\n",
    "\n",
    "for id_list in range(len(list_groupby_user)):\n",
    "    sublist0 = list_groupby_user[id_list]\n",
    "    sublist  = sublist0[1]\n",
    "    sublist  = sublist['business_id']\n",
    "        \n",
    "    for id_busi1 in range(len(sublist)):\n",
    "        id1 = sublist.iloc[id_busi1]\n",
    "        idx1 = order[id1]\n",
    "        \n",
    "        for id_busi in range(id_busi1+1, len(sublist)):\n",
    "            id2 = sublist.iloc[id_busi]\n",
    "            idx2 = order[id2]\n",
    "            X2[idx1,idx2] += 1\n",
    "            X2[idx2,idx1] += 1\n",
    "\n",
    "# Normalization \n",
    "graph2 = X2 / np.max(X2)"
   ]
  },
  {
   "cell_type": "code",
   "execution_count": 9,
   "metadata": {},
   "outputs": [
    {
     "ename": "NameError",
     "evalue": "name 'business_id' is not defined",
     "output_type": "error",
     "traceback": [
      "\u001b[1;31m---------------------------------------------------------------------------\u001b[0m",
      "\u001b[1;31mNameError\u001b[0m                                 Traceback (most recent call last)",
      "\u001b[1;32m<ipython-input-9-71b1dbc8072a>\u001b[0m in \u001b[0;36m<module>\u001b[1;34m()\u001b[0m\n\u001b[0;32m      3\u001b[0m \u001b[0mdfna3_testN\u001b[0m \u001b[1;33m=\u001b[0m \u001b[0mdfna3\u001b[0m\u001b[1;33m.\u001b[0m\u001b[0miloc\u001b[0m\u001b[1;33m[\u001b[0m\u001b[1;36m0\u001b[0m\u001b[1;33m:\u001b[0m\u001b[0mtestN\u001b[0m\u001b[1;33m]\u001b[0m\u001b[1;33m.\u001b[0m\u001b[0mcopy\u001b[0m\u001b[1;33m(\u001b[0m\u001b[0mdeep\u001b[0m\u001b[1;33m=\u001b[0m\u001b[1;32mTrue\u001b[0m\u001b[1;33m)\u001b[0m\u001b[1;33m\u001b[0m\u001b[0m\n\u001b[0;32m      4\u001b[0m \u001b[1;33m\u001b[0m\u001b[0m\n\u001b[1;32m----> 5\u001b[1;33m \u001b[0mdfna3_testN\u001b[0m \u001b[1;33m=\u001b[0m \u001b[1;33m[\u001b[0m\u001b[0mdfna3_testN\u001b[0m\u001b[1;33m[\u001b[0m\u001b[0mdfna3_testN\u001b[0m\u001b[1;33m[\u001b[0m\u001b[1;34m'business_id'\u001b[0m\u001b[1;33m]\u001b[0m\u001b[1;33m.\u001b[0m\u001b[0mastype\u001b[0m\u001b[1;33m(\u001b[0m\u001b[0mstr\u001b[0m\u001b[1;33m)\u001b[0m\u001b[1;33m.\u001b[0m\u001b[0mstr\u001b[0m\u001b[1;33m.\u001b[0m\u001b[0mcontains\u001b[0m\u001b[1;33m(\u001b[0m\u001b[0mm\u001b[0m\u001b[1;33m)\u001b[0m\u001b[1;33m]\u001b[0m \u001b[1;32mfor\u001b[0m \u001b[0mm\u001b[0m \u001b[1;32min\u001b[0m \u001b[0mbusiness_id\u001b[0m\u001b[1;33m.\u001b[0m\u001b[0mbusiness_id\u001b[0m\u001b[1;33m]\u001b[0m\u001b[1;33m\u001b[0m\u001b[0m\n\u001b[0m\u001b[0;32m      6\u001b[0m \u001b[0mdfna3_testN\u001b[0m \u001b[1;33m=\u001b[0m \u001b[0mpd\u001b[0m\u001b[1;33m.\u001b[0m\u001b[0mconcat\u001b[0m\u001b[1;33m(\u001b[0m\u001b[0mdfna3_testN\u001b[0m\u001b[1;33m)\u001b[0m\u001b[1;33m\u001b[0m\u001b[0m\n\u001b[0;32m      7\u001b[0m \u001b[1;33m\u001b[0m\u001b[0m\n",
      "\u001b[1;31mNameError\u001b[0m: name 'business_id' is not defined"
     ]
    }
   ],
   "source": [
    "# Second Graph Signal --  number of Checkin in the restaurant\n",
    "testN = len(dfna3)\n",
    "dfna3_testN = dfna3.iloc[0:testN].copy(deep=True)\n",
    "\n",
    "dfna3_testN = [dfna3_testN[dfna3_testN['business_id'].astype(str).str.contains(m)] for m in business_id.business_id]\n",
    "dfna3_testN = pd.concat(dfna3_testN)\n",
    "\n",
    "days = ('Monday','Tuesday','Wednesday','Thursday','Friday','Saturday','Sunday')\n",
    "\n",
    "vect = np.zeros((len(business_id),7))\n",
    "\n",
    "for bus_id in range(len(dfna3_testN)):\n",
    "    id1 = dfna3_testN.iloc[bus_id]['business_id']\n",
    "    idx1 = order[id1]\n",
    "    \n",
    "    bus_time = dfna3_testN.iloc[bus_id]['time']\n",
    "    \n",
    "    for i, d in enumerate(days):\n",
    "        v = bus_time.get(d)\n",
    "        if v is not None:\n",
    "            vect[idx1,i] = np.sum(v.values())\n",
    "sig2 = vect"
   ]
  },
  {
   "cell_type": "code",
   "execution_count": null,
   "metadata": {
    "collapsed": true
   },
   "outputs": [],
   "source": []
  }
 ],
 "metadata": {
  "kernelspec": {
   "display_name": "Python 3",
   "language": "python",
   "name": "python3"
  },
  "language_info": {
   "codemirror_mode": {
    "name": "ipython",
    "version": 3
   },
   "file_extension": ".py",
   "mimetype": "text/x-python",
   "name": "python",
   "nbconvert_exporter": "python",
   "pygments_lexer": "ipython3",
   "version": "3.6.5"
  }
 },
 "nbformat": 4,
 "nbformat_minor": 2
}
