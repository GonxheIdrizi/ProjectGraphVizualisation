{
 "cells": [
  {
   "cell_type": "code",
   "execution_count": 1,
   "metadata": {},
   "outputs": [],
   "source": [
    "import math\n",
    "import numpy as np\n",
    "from   numpy import linalg as LA\n",
    "import scipy\n",
    "import scipy.io\n",
    "from scipy.sparse import csr_matrix\n",
    "import matplotlib.pyplot as plt\n",
    "from mpl_toolkits.mplot3d import Axes3D\n",
    "    \n",
    "from sklearn import datasets     # Machine Learning in Python\n",
    "from sklearn.preprocessing import StandardScaler\n",
    "from sklearn.cluster import KMeans, SpectralClustering\n",
    "from sklearn.neighbors import kneighbors_graph\n",
    "from sklearn.metrics.pairwise import pairwise_kernels\n",
    "from sklearn.manifold import MDS \n",
    "\n",
    "import torch\n",
    "import torch.nn as nn            # a neural networks library \n",
    "import torch.nn.functional as F  \n",
    "import torch.optim as optim      # an optimization package to be used with torch.nn\n",
    "\n",
    "import pandas as pd\n",
    "import json\n",
    "\n",
    "np.set_printoptions(precision=4)"
   ]
  },
  {
   "cell_type": "code",
   "execution_count": 2,
   "metadata": {},
   "outputs": [],
   "source": [
    "%load_ext autoreload\n",
    "%autoreload 2"
   ]
  },
  {
   "cell_type": "code",
   "execution_count": 3,
   "metadata": {},
   "outputs": [],
   "source": [
    "def read_json(filepath):\n",
    "    with open(filepath) as json_file:      \n",
    "        data = json_file.readlines()\n",
    "        data = list(map(json.loads, data)) \n",
    "    return data\n",
    "\n",
    "def build_graph(X, knn=True):\n",
    "    if knn:\n",
    "        A = kneighbors_graph(X, n_neighbors=5, include_self=False)\n",
    "        A = np.array(A.todense())\n",
    "        A = np.clip(A + A.T, 0, 1)\n",
    "    else:\n",
    "        A = pairwise_kernels(X, metric='rbf', gamma=1)\n",
    "    return A"
   ]
  },
  {
   "cell_type": "markdown",
   "metadata": {},
   "source": [
    "## Create graphs from yelp dataset "
   ]
  },
  {
   "cell_type": "code",
   "execution_count": 5,
   "metadata": {
    "scrolled": false
   },
   "outputs": [
    {
     "data": {
      "text/plain": [
       "business_id    False\n",
       "time           False\n",
       "dtype: bool"
      ]
     },
     "execution_count": 5,
     "metadata": {},
     "output_type": "execute_result"
    }
   ],
   "source": [
    "# Read data \n",
    "\n",
    "data_business = read_json('dataset/business.json')\n",
    "business      = pd.DataFrame(data_business)\n",
    "\n",
    "df1           = business[['business_id', 'categories', 'latitude', 'longitude', 'review_count', 'stars']]\n",
    "dfna1         = df1.dropna() #[pd.notnull(df)]\n",
    "dfna1.isnull().any()\n",
    "\n",
    "\n",
    "'''data_review   = read_json('dataset/review.json')\n",
    "review        = pd.DataFrame(data_review)\n",
    "\n",
    "df2           = review[['business_id', 'user_id']]\n",
    "dfna2         = df2.dropna() #[pd.notnull(df)]\n",
    "dfna2.isnull().any()'''\n",
    "\n",
    "\n",
    "data_checkin  = read_json('dataset/checkin.json')\n",
    "checkin       = pd.DataFrame(data_checkin)\n",
    "\n",
    "df3           = checkin\n",
    "dfna3         = df3.dropna() #[pd.notnull(df)]\n",
    "dfna3.isnull().any()"
   ]
  },
  {
   "cell_type": "code",
   "execution_count": 7,
   "metadata": {},
   "outputs": [],
   "source": [
    "# selection of the restaurants only\n",
    "restaurant         = dfna1[dfna1['categories'].astype(str).str.contains(\"Restaurants\")]\n",
    "business_id_full   = restaurant[['business_id']]\n",
    "stars              = restaurant[['stars']]\n",
    "\n",
    "# Evaluation -- Stars\n",
    "Xeval              = stars.values"
   ]
  },
  {
   "cell_type": "code",
   "execution_count": 8,
   "metadata": {},
   "outputs": [],
   "source": [
    "# Take a subset of the restaurant \n",
    "\n",
    "testN = 1000\n",
    "business_id = business_id_full[0:testN]\n",
    "\n",
    "order = {}\n",
    "for (id, index) in zip(business_id.business_id, range(len(business_id))):\n",
    "    order[id] = index\n",
    "    \n",
    "restaurant_testN = restaurant.iloc[0:testN].copy(deep=True)\n",
    "restaurant_testN = [restaurant_testN[restaurant_testN['business_id'].astype(str).str.contains(m)] for m in business_id.business_id]\n",
    "restaurant_testN = pd.concat(restaurant_testN)\n",
    "\n",
    "stars_textN      = restaurant_testN[['stars']]\n",
    "Xeval_textN      = np.round(stars_textN.values) - 1 "
   ]
  },
  {
   "cell_type": "code",
   "execution_count": 9,
   "metadata": {},
   "outputs": [],
   "source": [
    "# -- First Graph --\n",
    "\n",
    "# Graph link: geographical positions\n",
    "restaurant_geo_pos   = restaurant_testN[['latitude', 'longitude']]\n",
    "X1                   = restaurant_geo_pos.values # (54618, 2)\n",
    "graph1               = build_graph(X1)\n",
    "\n",
    "# Graph Signal -- Review count\n",
    "restaurant_rev_count = restaurant_testN[['review_count']]\n",
    "sig1                 = restaurant_rev_count.values # (54618, 2)"
   ]
  },
  {
   "cell_type": "code",
   "execution_count": null,
   "metadata": {},
   "outputs": [],
   "source": [
    "# -- Second Graph -- \n",
    "\n",
    "# Graph link: if the same user visited two different restaurants, these resto are linked\n",
    "N                     = len(business_id)\n",
    "X2                    = np.zeros((N,N))\n",
    "\n",
    "dfna2_testN = dfna2.iloc[0:testN].copy(deep=True)\n",
    "dfna2_testN = [dfna2_testN[dfna2_testN['business_id'].astype(str).str.contains(m)] for m in business_id.business_id]\n",
    "dfna2_testN = pd.concat(dfna2_testN)\n",
    "\n",
    "business_groupby_user = dfna2_testN.groupby('user_id')\n",
    "list_groupby_user     = list(business_groupby_user)\n",
    "\n",
    "for id_list in range(len(list_groupby_user)):\n",
    "    sublist0 = list_groupby_user[id_list]\n",
    "    sublist  = sublist0[1]\n",
    "    sublist  = sublist['business_id']\n",
    "        \n",
    "    for id_busi1 in range(len(sublist)):\n",
    "        id1 = sublist.iloc[id_busi1]\n",
    "        idx1 = order[id1]\n",
    "        \n",
    "        for id_busi in range(id_busi1+1, len(sublist)):\n",
    "            id2 = sublist.iloc[id_busi]\n",
    "            idx2 = order[id2]\n",
    "            X2[idx1,idx2] += 1\n",
    "            X2[idx2,idx1] += 1\n",
    "\n",
    "# Normalization \n",
    "graph2 = X2 / np.max(X2)"
   ]
  },
  {
   "cell_type": "code",
   "execution_count": 10,
   "metadata": {},
   "outputs": [
    {
     "ename": "TypeError",
     "evalue": "float() argument must be a string or a number, not 'dict_values'",
     "output_type": "error",
     "traceback": [
      "\u001b[1;31m---------------------------------------------------------------------------\u001b[0m",
      "\u001b[1;31mTypeError\u001b[0m                                 Traceback (most recent call last)",
      "\u001b[1;32m<ipython-input-10-71b1dbc8072a>\u001b[0m in \u001b[0;36m<module>\u001b[1;34m()\u001b[0m\n\u001b[0;32m     19\u001b[0m         \u001b[0mv\u001b[0m \u001b[1;33m=\u001b[0m \u001b[0mbus_time\u001b[0m\u001b[1;33m.\u001b[0m\u001b[0mget\u001b[0m\u001b[1;33m(\u001b[0m\u001b[0md\u001b[0m\u001b[1;33m)\u001b[0m\u001b[1;33m\u001b[0m\u001b[0m\n\u001b[0;32m     20\u001b[0m         \u001b[1;32mif\u001b[0m \u001b[0mv\u001b[0m \u001b[1;32mis\u001b[0m \u001b[1;32mnot\u001b[0m \u001b[1;32mNone\u001b[0m\u001b[1;33m:\u001b[0m\u001b[1;33m\u001b[0m\u001b[0m\n\u001b[1;32m---> 21\u001b[1;33m             \u001b[0mvect\u001b[0m\u001b[1;33m[\u001b[0m\u001b[0midx1\u001b[0m\u001b[1;33m,\u001b[0m\u001b[0mi\u001b[0m\u001b[1;33m]\u001b[0m \u001b[1;33m=\u001b[0m \u001b[0mnp\u001b[0m\u001b[1;33m.\u001b[0m\u001b[0msum\u001b[0m\u001b[1;33m(\u001b[0m\u001b[0mv\u001b[0m\u001b[1;33m.\u001b[0m\u001b[0mvalues\u001b[0m\u001b[1;33m(\u001b[0m\u001b[1;33m)\u001b[0m\u001b[1;33m)\u001b[0m\u001b[1;33m\u001b[0m\u001b[0m\n\u001b[0m\u001b[0;32m     22\u001b[0m \u001b[0msig2\u001b[0m \u001b[1;33m=\u001b[0m \u001b[0mvect\u001b[0m\u001b[1;33m\u001b[0m\u001b[0m\n",
      "\u001b[1;31mTypeError\u001b[0m: float() argument must be a string or a number, not 'dict_values'"
     ]
    }
   ],
   "source": [
    "# Second Graph Signal --  number of Checkin in the restaurant\n",
    "testN = len(dfna3)\n",
    "dfna3_testN = dfna3.iloc[0:testN].copy(deep=True)\n",
    "\n",
    "dfna3_testN = [dfna3_testN[dfna3_testN['business_id'].astype(str).str.contains(m)] for m in business_id.business_id]\n",
    "dfna3_testN = pd.concat(dfna3_testN)\n",
    "\n",
    "days = ('Monday','Tuesday','Wednesday','Thursday','Friday','Saturday','Sunday')\n",
    "\n",
    "vect = np.zeros((len(business_id),7))\n",
    "\n",
    "for bus_id in range(len(dfna3_testN)):\n",
    "    id1 = dfna3_testN.iloc[bus_id]['business_id']\n",
    "    idx1 = order[id1]\n",
    "    \n",
    "    bus_time = dfna3_testN.iloc[bus_id]['time']\n",
    "    \n",
    "    for i, d in enumerate(days):\n",
    "        v = bus_time.get(d)\n",
    "        if v is not None:\n",
    "            vect[idx1,i] = np.sum(v.values())\n",
    "sig2 = vect"
   ]
  },
  {
   "cell_type": "code",
   "execution_count": 12,
   "metadata": {},
   "outputs": [
    {
     "data": {
      "text/plain": [
       "array([[0., 0., 0., ..., 0., 0., 0.],\n",
       "       [0., 0., 0., ..., 0., 0., 0.],\n",
       "       [0., 0., 0., ..., 0., 0., 0.],\n",
       "       ...,\n",
       "       [0., 0., 0., ..., 0., 0., 0.],\n",
       "       [0., 0., 0., ..., 0., 0., 0.],\n",
       "       [0., 0., 0., ..., 0., 0., 0.]])"
      ]
     },
     "execution_count": 12,
     "metadata": {},
     "output_type": "execute_result"
    }
   ],
   "source": [
    "graph1"
   ]
  },
  {
   "cell_type": "code",
   "execution_count": null,
   "metadata": {},
   "outputs": [],
   "source": []
  }
 ],
 "metadata": {
  "kernelspec": {
   "display_name": "Python 3",
   "language": "python",
   "name": "python3"
  },
  "language_info": {
   "codemirror_mode": {
    "name": "ipython",
    "version": 3
   },
   "file_extension": ".py",
   "mimetype": "text/x-python",
   "name": "python",
   "nbconvert_exporter": "python",
   "pygments_lexer": "ipython3",
   "version": "3.6.5"
  }
 },
 "nbformat": 4,
 "nbformat_minor": 2
}
